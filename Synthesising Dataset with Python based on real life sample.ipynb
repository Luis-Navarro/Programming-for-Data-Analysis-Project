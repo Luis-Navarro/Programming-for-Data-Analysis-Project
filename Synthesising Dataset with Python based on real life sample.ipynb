{
 "cells": [
  {
   "cell_type": "markdown",
   "metadata": {},
   "source": [
    "# Synthesising Data Set"
   ]
  },
  {
   "cell_type": "markdown",
   "metadata": {},
   "source": [
    "1. Download Religion and Irish Language data sets\n",
    "2. Combine data in a data set, matching instances by County\n",
    "3. Cleanse data set, deleting or amending lost values\n",
    "4. Analyse dataset and get distribution statistics (mean, max, min, Standars Deviation)\n",
    "5. Analyse correlations and relationship between variables.\n",
    "    5.1. Determine independent variable.\n",
    "6. Synthetise new data set with random values using the sample statistics.\n",
    "7. Compare synthetised data set with sample for testing purposes. "
   ]
  },
  {
   "cell_type": "code",
   "execution_count": null,
   "metadata": {},
   "outputs": [],
   "source": []
  }
 ],
 "metadata": {
  "kernelspec": {
   "display_name": "Python 3",
   "language": "python",
   "name": "python3"
  },
  "language_info": {
   "codemirror_mode": {
    "name": "ipython",
    "version": 3
   },
   "file_extension": ".py",
   "mimetype": "text/x-python",
   "name": "python",
   "nbconvert_exporter": "python",
   "pygments_lexer": "ipython3",
   "version": "3.7.0"
  }
 },
 "nbformat": 4,
 "nbformat_minor": 2
}
